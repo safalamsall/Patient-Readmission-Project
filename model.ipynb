{
 "cells": [
  {
   "cell_type": "code",
   "metadata": {
    "id": "pAS0Tq6ZR88g",
    "ExecuteTime": {
     "end_time": "2024-08-31T09:54:12.947393Z",
     "start_time": "2024-08-31T09:54:05.990005Z"
    }
   },
   "source": [
    "import pandas as pd\n",
    "from sklearn.model_selection import train_test_split\n",
    "from sklearn.ensemble import RandomForestClassifier\n",
    "from sklearn.linear_model import LogisticRegression\n",
    "from sklearn.tree import DecisionTreeClassifier\n",
    "from sklearn.svm import SVC\n",
    "\n",
    "from sklearn.neighbors import KNeighborsClassifier\n",
    "from sklearn.naive_bayes import GaussianNB\n",
    "from sklearn.ensemble import GradientBoostingClassifier\n",
    "\n",
    "from sklearn.metrics import accuracy_score,confusion_matrix,classification_report\n"
   ],
   "outputs": [],
   "execution_count": 1
  },
  {
   "cell_type": "code",
   "metadata": {
    "id": "f63XbEZRR88j",
    "ExecuteTime": {
     "end_time": "2024-08-31T09:54:13.745530Z",
     "start_time": "2024-08-31T09:54:12.998045Z"
    }
   },
   "source": [
    "df = pd.read_csv('cleaned_data.csv')\n",
    "X = df.drop('target',axis=1)\n",
    "y = df['target']\n"
   ],
   "outputs": [],
   "execution_count": 2
  },
  {
   "cell_type": "code",
   "metadata": {
    "colab": {
     "base_uri": "https://localhost:8080/"
    },
    "id": "Noo7jrqVR88j",
    "outputId": "ae2d9b5f-e0dd-42e8-a086-fab236996a94",
    "ExecuteTime": {
     "end_time": "2024-08-31T09:54:16.748500Z",
     "start_time": "2024-08-31T09:54:16.197002Z"
    }
   },
   "source": [
    "X_train_val, X_test, y_train_val, y_test = train_test_split(X, y, test_size=0.2, stratify=y, random_state=42)\n",
    "X_train, X_val, y_train, y_val = train_test_split(X_train_val, y_train_val, test_size=0.25, stratify=y_train_val, random_state=42)\n",
    "\n",
    "print(f\"Training set size: {X_train.shape[0]}\")\n",
    "print(f\"Validation set size: {X_val.shape[0]}\")\n",
    "print(f\"Test set size: {X_test.shape[0]}\")\n",
    "\n",
    "\n"
   ],
   "outputs": [
    {
     "name": "stdout",
     "output_type": "stream",
     "text": [
      "Training set size: 60144\n",
      "Validation set size: 20048\n",
      "Test set size: 20049\n"
     ]
    }
   ],
   "execution_count": 3
  },
  {
   "cell_type": "code",
   "metadata": {
    "colab": {
     "base_uri": "https://localhost:8080/"
    },
    "id": "VFy-Bi4TR88k",
    "outputId": "c78e5faf-b4db-4c28-8d08-4b7b53c4522f",
    "ExecuteTime": {
     "end_time": "2024-08-31T09:56:56.444181Z",
     "start_time": "2024-08-31T09:54:17.481156Z"
    }
   },
   "source": [
    "models = {\n",
    "    'Logistic_Regression': LogisticRegression(max_iter=10000),\n",
    "    'Decision_Tree': DecisionTreeClassifier(random_state=42),\n",
    "    'Random_Forest': RandomForestClassifier(random_state=42, n_jobs=-1, n_estimators=500),\n",
    "    'K-Nearest_Neighbors': KNeighborsClassifier(n_jobs=-1, n_neighbors=5),\n",
    "    'Naive_Bayes': GaussianNB(),\n",
    "    'Gradient_Boosting': GradientBoostingClassifier(random_state=42)\n",
    "}\n",
    "\n",
    "for model_name, model in models.items():\n",
    "    model.fit(X_train, y_train)\n",
    "    y_pred = model.predict(X_test)\n",
    "    print(model_name)\n",
    "    print('Accuracy:',accuracy_score(y_test,y_pred))\n",
    "    print('Confusion Matrix:',confusion_matrix(y_test,y_pred))\n",
    "    print('Classification Report:',classification_report(y_test,y_pred))\n"
   ],
   "outputs": [
    {
     "name": "stdout",
     "output_type": "stream",
     "text": [
      "Logistic_Regression\n",
      "Accuracy: 0.5402264452092373\n",
      "Confusion Matrix: [[8834 1930]\n",
      " [7288 1997]]\n",
      "Classification Report:               precision    recall  f1-score   support\n",
      "\n",
      "           0       0.55      0.82      0.66     10764\n",
      "           1       0.51      0.22      0.30      9285\n",
      "\n",
      "    accuracy                           0.54     20049\n",
      "   macro avg       0.53      0.52      0.48     20049\n",
      "weighted avg       0.53      0.54      0.49     20049\n",
      "\n",
      "Decision_Tree\n",
      "Accuracy: 0.520474836650207\n",
      "Confusion Matrix: [[5921 4843]\n",
      " [4771 4514]]\n",
      "Classification Report:               precision    recall  f1-score   support\n",
      "\n",
      "           0       0.55      0.55      0.55     10764\n",
      "           1       0.48      0.49      0.48      9285\n",
      "\n",
      "    accuracy                           0.52     20049\n",
      "   macro avg       0.52      0.52      0.52     20049\n",
      "weighted avg       0.52      0.52      0.52     20049\n",
      "\n",
      "Random_Forest\n",
      "Accuracy: 0.5493540824978802\n",
      "Confusion Matrix: [[7012 3752]\n",
      " [5283 4002]]\n",
      "Classification Report:               precision    recall  f1-score   support\n",
      "\n",
      "           0       0.57      0.65      0.61     10764\n",
      "           1       0.52      0.43      0.47      9285\n",
      "\n",
      "    accuracy                           0.55     20049\n",
      "   macro avg       0.54      0.54      0.54     20049\n",
      "weighted avg       0.55      0.55      0.54     20049\n",
      "\n"
     ]
    },
    {
     "name": "stderr",
     "output_type": "stream",
     "text": [
      "C:\\Users\\admin\\AppData\\Local\\Packages\\PythonSoftwareFoundation.Python.3.12_qbz5n2kfra8p0\\LocalCache\\local-packages\\Python312\\site-packages\\joblib\\externals\\loky\\backend\\context.py:136: UserWarning: Could not find the number of physical cores for the following reason:\n",
      "[WinError 2] The system cannot find the file specified\n",
      "Returning the number of logical cores instead. You can silence this warning by setting LOKY_MAX_CPU_COUNT to the number of cores you want to use.\n",
      "  warnings.warn(\n",
      "  File \"C:\\Users\\admin\\AppData\\Local\\Packages\\PythonSoftwareFoundation.Python.3.12_qbz5n2kfra8p0\\LocalCache\\local-packages\\Python312\\site-packages\\joblib\\externals\\loky\\backend\\context.py\", line 257, in _count_physical_cores\n",
      "    cpu_info = subprocess.run(\n",
      "               ^^^^^^^^^^^^^^^\n",
      "  File \"C:\\Program Files\\WindowsApps\\PythonSoftwareFoundation.Python.3.12_3.12.1520.0_x64__qbz5n2kfra8p0\\Lib\\subprocess.py\", line 548, in run\n",
      "    with Popen(*popenargs, **kwargs) as process:\n",
      "         ^^^^^^^^^^^^^^^^^^^^^^^^^^^\n",
      "  File \"C:\\Program Files\\WindowsApps\\PythonSoftwareFoundation.Python.3.12_3.12.1520.0_x64__qbz5n2kfra8p0\\Lib\\subprocess.py\", line 1026, in __init__\n",
      "    self._execute_child(args, executable, preexec_fn, close_fds,\n",
      "  File \"C:\\Program Files\\WindowsApps\\PythonSoftwareFoundation.Python.3.12_3.12.1520.0_x64__qbz5n2kfra8p0\\Lib\\subprocess.py\", line 1538, in _execute_child\n",
      "    hp, ht, pid, tid = _winapi.CreateProcess(executable, args,\n",
      "                       ^^^^^^^^^^^^^^^^^^^^^^^^^^^^^^^^^^^^^^^\n"
     ]
    },
    {
     "name": "stdout",
     "output_type": "stream",
     "text": [
      "K-Nearest_Neighbors\n",
      "Accuracy: 0.5209237368447304\n",
      "Confusion Matrix: [[6295 4469]\n",
      " [5136 4149]]\n",
      "Classification Report:               precision    recall  f1-score   support\n",
      "\n",
      "           0       0.55      0.58      0.57     10764\n",
      "           1       0.48      0.45      0.46      9285\n",
      "\n",
      "    accuracy                           0.52     20049\n",
      "   macro avg       0.52      0.52      0.52     20049\n",
      "weighted avg       0.52      0.52      0.52     20049\n",
      "\n",
      "Naive_Bayes\n",
      "Accuracy: 0.5408249788019353\n",
      "Confusion Matrix: [[9495 1269]\n",
      " [7937 1348]]\n",
      "Classification Report:               precision    recall  f1-score   support\n",
      "\n",
      "           0       0.54      0.88      0.67     10764\n",
      "           1       0.52      0.15      0.23      9285\n",
      "\n",
      "    accuracy                           0.54     20049\n",
      "   macro avg       0.53      0.51      0.45     20049\n",
      "weighted avg       0.53      0.54      0.47     20049\n",
      "\n",
      "Gradient_Boosting\n",
      "Accuracy: 0.5643174223153274\n",
      "Confusion Matrix: [[7245 3519]\n",
      " [5216 4069]]\n",
      "Classification Report:               precision    recall  f1-score   support\n",
      "\n",
      "           0       0.58      0.67      0.62     10764\n",
      "           1       0.54      0.44      0.48      9285\n",
      "\n",
      "    accuracy                           0.56     20049\n",
      "   macro avg       0.56      0.56      0.55     20049\n",
      "weighted avg       0.56      0.56      0.56     20049\n",
      "\n"
     ]
    }
   ],
   "execution_count": 4
  },
  {
   "cell_type": "code",
   "metadata": {
    "colab": {
     "base_uri": "https://localhost:8080/"
    },
    "id": "FNu-4zI-R88l",
    "outputId": "ca829f5d-988e-4bdd-8704-2a3612a428cf",
    "ExecuteTime": {
     "end_time": "2024-08-31T10:12:15.208779Z",
     "start_time": "2024-08-31T09:56:56.609319Z"
    }
   },
   "source": [
    "from sklearn.model_selection import GridSearchCV\n",
    "\n",
    "# Define the parameter grid for Gradient Boosting\n",
    "\n",
    "param_grid = {\n",
    "    'n_estimators': [100, 200, 300],\n",
    "    'learning_rate': [0.01, 0.1, 1],\n",
    "    'max_depth': [3, 5, 7]\n",
    "}\n",
    "\n",
    "# Initialize GridSearchCV with the GradientBoostingClassifier, the parameter grid, and 5-fold cross-validation\n",
    "\n",
    "grid_search = GridSearchCV(estimator=GradientBoostingClassifier(), param_grid=param_grid, cv=5, n_jobs=-1, verbose=2)\n",
    "\n",
    "# Fit GridSearchCV\n",
    "grid_search.fit(X_train, y_train)\n",
    "\n",
    "# Get the best parameters and the best model\n",
    "best_params = grid_search.best_params_\n",
    "best_model = grid_search.best_estimator_\n",
    "\n",
    "# Evaluate the best model\n",
    "print('Accuracy:',accuracy_score(y_test,y_pred))\n",
    "print('Confusion Matrix:',confusion_matrix(y_test,y_pred))\n",
    "print('Classification Report:',classification_report(y_test,y_pred))\n",
    "print(f\"Best Parameters: {best_params}\")"
   ],
   "outputs": [
    {
     "name": "stdout",
     "output_type": "stream",
     "text": [
      "Fitting 5 folds for each of 27 candidates, totalling 135 fits\n",
      "Accuracy: 0.5643174223153274\n",
      "Confusion Matrix: [[7245 3519]\n",
      " [5216 4069]]\n",
      "Classification Report:               precision    recall  f1-score   support\n",
      "\n",
      "           0       0.58      0.67      0.62     10764\n",
      "           1       0.54      0.44      0.48      9285\n",
      "\n",
      "    accuracy                           0.56     20049\n",
      "   macro avg       0.56      0.56      0.55     20049\n",
      "weighted avg       0.56      0.56      0.56     20049\n",
      "\n",
      "Best Parameters: {'learning_rate': 0.01, 'max_depth': 7, 'n_estimators': 300}\n"
     ]
    }
   ],
   "execution_count": 5
  },
  {
   "cell_type": "code",
   "source": [
    "\n",
    "\n",
    "# Predict on the validation set using the best model\n",
    "y_pred_val = best_model.predict(X_val)\n",
    "\n",
    "# Evaluate the model's performance on the validation set\n",
    "print(\"Validation Set Performance:\")\n",
    "print('Accuracy:', accuracy_score(y_val, y_pred_val))\n",
    "print('Confusion Matrix:', confusion_matrix(y_val, y_pred_val))\n",
    "print('Classification Report:', classification_report(y_val, y_pred_val))\n"
   ],
   "metadata": {
    "colab": {
     "base_uri": "https://localhost:8080/"
    },
    "id": "7nfgiBKkewBd",
    "outputId": "5314de21-edee-4fc2-b8cf-533879f241fa",
    "ExecuteTime": {
     "end_time": "2024-08-31T10:13:44.718907Z",
     "start_time": "2024-08-31T10:13:44.478859Z"
    }
   },
   "outputs": [
    {
     "name": "stdout",
     "output_type": "stream",
     "text": [
      "Validation Set Performance:\n",
      "Accuracy: 0.5705806065442937\n",
      "Confusion Matrix: [[7242 3521]\n",
      " [5088 4197]]\n",
      "Classification Report:               precision    recall  f1-score   support\n",
      "\n",
      "           0       0.59      0.67      0.63     10763\n",
      "           1       0.54      0.45      0.49      9285\n",
      "\n",
      "    accuracy                           0.57     20048\n",
      "   macro avg       0.57      0.56      0.56     20048\n",
      "weighted avg       0.57      0.57      0.57     20048\n",
      "\n"
     ]
    }
   ],
   "execution_count": 8
  },
  {
   "cell_type": "code",
   "metadata": {
    "colab": {
     "base_uri": "https://localhost:8080/"
    },
    "id": "7EzUliLWR88l",
    "outputId": "908edb16-21aa-4f7f-88da-b5b0fa19a4a9",
    "ExecuteTime": {
     "end_time": "2024-08-31T10:15:29.693186Z",
     "start_time": "2024-08-31T10:15:29.612786Z"
    }
   },
   "source": [
    "import joblib\n",
    "\n",
    "# Save the model to a file\n",
    "joblib.dump(best_model, 'model.pkl')\n",
    "\n",
    "# To load the model later\n",
    "# loaded_model = joblib.load('best_model.pkl')"
   ],
   "outputs": [
    {
     "data": {
      "text/plain": [
       "['model.pkl']"
      ]
     },
     "execution_count": 10,
     "metadata": {},
     "output_type": "execute_result"
    }
   ],
   "execution_count": 10
  }
 ],
 "metadata": {
  "kernelspec": {
   "display_name": "Python 3 (ipykernel)",
   "language": "python",
   "name": "python3"
  },
  "language_info": {
   "codemirror_mode": {
    "name": "ipython",
    "version": 3
   },
   "file_extension": ".py",
   "mimetype": "text/x-python",
   "name": "python",
   "nbconvert_exporter": "python",
   "pygments_lexer": "ipython3",
   "version": "3.12.2"
  },
  "colab": {
   "provenance": []
  }
 },
 "nbformat": 4,
 "nbformat_minor": 0
}
